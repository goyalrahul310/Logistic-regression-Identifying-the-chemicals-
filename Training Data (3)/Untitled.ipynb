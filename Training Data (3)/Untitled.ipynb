{
 "cells": [
  {
   "cell_type": "code",
   "execution_count": 7,
   "metadata": {},
   "outputs": [],
   "source": [
    "import matplotlib.pyplot as  plt\n",
    "import pandas as pd\n",
    "import numpy as np\n"
   ]
  },
  {
   "cell_type": "code",
   "execution_count": 8,
   "metadata": {},
   "outputs": [],
   "source": [
    "X = pd.read_csv(\"Logistic_X_Train.csv\")"
   ]
  },
  {
   "cell_type": "code",
   "execution_count": 9,
   "metadata": {},
   "outputs": [],
   "source": [
    "X_test = pd.read_csv(\"Logistic_X_Test.csv\")"
   ]
  },
  {
   "cell_type": "code",
   "execution_count": 10,
   "metadata": {},
   "outputs": [
    {
     "name": "stdout",
     "output_type": "stream",
     "text": [
      "(1000, 3)\n",
      "(3000, 3)\n"
     ]
    }
   ],
   "source": [
    "print(X_test.shape)\n",
    "print(X.shape)\n",
    "#X = X.values"
   ]
  },
  {
   "cell_type": "code",
   "execution_count": 11,
   "metadata": {},
   "outputs": [
    {
     "name": "stdout",
     "output_type": "stream",
     "text": [
      "      label\n",
      "0         1\n",
      "1         1\n",
      "2         1\n",
      "3         0\n",
      "4         0\n",
      "5         0\n",
      "6         0\n",
      "7         0\n",
      "8         1\n",
      "9         1\n",
      "10        0\n",
      "11        0\n",
      "12        1\n",
      "13        0\n",
      "14        1\n",
      "15        0\n",
      "16        0\n",
      "17        0\n",
      "18        1\n",
      "19        0\n",
      "20        0\n",
      "21        1\n",
      "22        0\n",
      "23        0\n",
      "24        0\n",
      "25        0\n",
      "26        0\n",
      "27        0\n",
      "28        0\n",
      "29        1\n",
      "...     ...\n",
      "2970      1\n",
      "2971      0\n",
      "2972      1\n",
      "2973      1\n",
      "2974      0\n",
      "2975      1\n",
      "2976      1\n",
      "2977      0\n",
      "2978      1\n",
      "2979      1\n",
      "2980      1\n",
      "2981      1\n",
      "2982      0\n",
      "2983      1\n",
      "2984      1\n",
      "2985      0\n",
      "2986      0\n",
      "2987      1\n",
      "2988      1\n",
      "2989      0\n",
      "2990      1\n",
      "2991      0\n",
      "2992      0\n",
      "2993      0\n",
      "2994      1\n",
      "2995      1\n",
      "2996      1\n",
      "2997      1\n",
      "2998      0\n",
      "2999      1\n",
      "\n",
      "[3000 rows x 1 columns]\n"
     ]
    }
   ],
   "source": [
    "Y = pd.read_csv(\"Logistic_Y_Train.csv\")\n",
    "print(Y)\n",
    "#X = X.values\n",
    "Y = Y.values"
   ]
  },
  {
   "cell_type": "code",
   "execution_count": null,
   "metadata": {},
   "outputs": [],
   "source": []
  },
  {
   "cell_type": "code",
   "execution_count": 12,
   "metadata": {},
   "outputs": [],
   "source": [
    "def predict(X,weights):\n",
    "    \"\"\"X -> mx(n+1) matrix, w -->(nX1,) vector\"\"\"\n",
    "    z = np.dot(X,weights)\n",
    "    predictions = sigmoid(z)\n",
    "    return predictions\n",
    "\n",
    "def loss(X,Y,weights):\n",
    "    \"\"\"Binary Cross Entropy\"\"\"\n",
    "    Y_ = predict(X,weights)\n",
    "    cost = np.mean(-Y*np.log(Y_) - (1-Y)*np.log(1-Y_))\n",
    "    return cost\n",
    "\n",
    "def update(X,Y,weights,learning_rate):\n",
    "    \"\"\"Perform weight updates for 1 epoch\"\"\"\n",
    "    Y_ = predict(X,weights)\n",
    "    dw = np.dot(X.T,Y_ - Y)\n",
    "    \n",
    "    m = X.shape[0]\n",
    "    weights = weights - learning_rate*dw/(float(m))\n",
    "    return weights\n",
    "\n",
    "def train(X,Y,learning_rate=0.5,maxEpochs=1000):\n",
    "    \n",
    "    #Modify the input to handle the bias term\n",
    "    ones = np.ones((X.shape[0],1))\n",
    "    X = np.hstack((ones,X))\n",
    "    \n",
    "    #Init Weights 0\n",
    "    weights = np.zeros(X.shape[1]) #n+1 entires\n",
    "    \n",
    "    \n",
    "    #Iterate over all epochs and make updates\n",
    "    \n",
    "    for epoch in range(maxEpochs):\n",
    "        \n",
    "        weights = update(X,Y,weights,learning_rate)\n",
    "        \n",
    "        if epoch%10==0:\n",
    "            l = loss(X,Y,weights)\n",
    "            print(\"Epoch %d Loss %.4f\"%(epoch,l))\n",
    "    return weights\n",
    "    \n",
    "    \n",
    "    \n",
    "    "
   ]
  },
  {
   "cell_type": "code",
   "execution_count": 13,
   "metadata": {},
   "outputs": [],
   "source": [
    "loss = []\n",
    "acc = []\n",
    "#X_test = X_test.va\n",
    "W = 2*np.random.random((X.shape[1],))\n",
    "b = 5*np.random.random()"
   ]
  },
  {
   "cell_type": "code",
   "execution_count": 14,
   "metadata": {},
   "outputs": [
    {
     "ename": "NameError",
     "evalue": "name 'grad_descent' is not defined",
     "output_type": "error",
     "traceback": [
      "\u001b[1;31m---------------------------------------------------------------------------\u001b[0m",
      "\u001b[1;31mNameError\u001b[0m                                 Traceback (most recent call last)",
      "\u001b[1;32m<ipython-input-14-36dcd40d186c>\u001b[0m in \u001b[0;36m<module>\u001b[1;34m\u001b[0m\n\u001b[0;32m      1\u001b[0m \u001b[1;32mfor\u001b[0m \u001b[0mi\u001b[0m \u001b[1;32min\u001b[0m \u001b[0mrange\u001b[0m\u001b[1;33m(\u001b[0m\u001b[1;36m1000\u001b[0m\u001b[1;33m)\u001b[0m\u001b[1;33m:\u001b[0m\u001b[1;33m\u001b[0m\u001b[1;33m\u001b[0m\u001b[0m\n\u001b[1;32m----> 2\u001b[1;33m     \u001b[0ml\u001b[0m\u001b[1;33m,\u001b[0m\u001b[0mW\u001b[0m\u001b[1;33m,\u001b[0m\u001b[0mb\u001b[0m \u001b[1;33m=\u001b[0m \u001b[0mgrad_descent\u001b[0m\u001b[1;33m(\u001b[0m\u001b[0mX\u001b[0m\u001b[1;33m,\u001b[0m\u001b[0mY\u001b[0m\u001b[1;33m,\u001b[0m\u001b[0mW\u001b[0m\u001b[1;33m,\u001b[0m\u001b[0mb\u001b[0m\u001b[1;33m,\u001b[0m\u001b[0mlearning_rate\u001b[0m\u001b[1;33m=\u001b[0m\u001b[1;36m0.1\u001b[0m\u001b[1;33m)\u001b[0m\u001b[1;33m\u001b[0m\u001b[1;33m\u001b[0m\u001b[0m\n\u001b[0m\u001b[0;32m      3\u001b[0m     \u001b[1;31m#acc.append(get_acc(X_test,Y_test,W,b))\u001b[0m\u001b[1;33m\u001b[0m\u001b[1;33m\u001b[0m\u001b[1;33m\u001b[0m\u001b[0m\n\u001b[0;32m      4\u001b[0m     \u001b[1;31m#loss.append(l)\u001b[0m\u001b[1;33m\u001b[0m\u001b[1;33m\u001b[0m\u001b[1;33m\u001b[0m\u001b[0m\n",
      "\u001b[1;31mNameError\u001b[0m: name 'grad_descent' is not defined"
     ]
    }
   ],
   "source": [
    "for i in range(1000):\n",
    "    l,W,b = grad_descent(X,Y,W,b,learning_rate=0.1)\n",
    "    #acc.append(get_acc(X_test,Y_test,W,b))\n",
    "    #loss.append(l)"
   ]
  },
  {
   "cell_type": "code",
   "execution_count": null,
   "metadata": {},
   "outputs": [],
   "source": [
    "y_pred = []\n",
    "X_test = np.array(X_test)\n",
    "print(W)\n",
    "print(b)\n",
    "p = X_test.shape[0]\n",
    "print(p)\n",
    "for i in range(p):\n",
    "    #print(X_test[i])\n",
    "    #print(X_test[i].shape)\n",
    "    hx = hypothesis(X_test[i],W,b)\n",
    "    p  = predict(X_test[i],W,b)\n",
    "    y_pred.append(p)"
   ]
  },
  {
   "cell_type": "code",
   "execution_count": null,
   "metadata": {},
   "outputs": [],
   "source": [
    "print(X_test.shape)\n",
    "X_test = np.array(X_test)\n",
    "print(X_test[1].shape)\n",
    "print(W.shape)\n",
    "print(np.dot(X_test[1],W))\n",
    "print(y_pred)"
   ]
  },
  {
   "cell_type": "code",
   "execution_count": null,
   "metadata": {},
   "outputs": [],
   "source": [
    "submiss = pd.DataFrame({\"label\" : y_pred})\n",
    "submiss.to_csv(\"sample_output.csv\",index = False)"
   ]
  },
  {
   "cell_type": "code",
   "execution_count": null,
   "metadata": {},
   "outputs": [],
   "source": [
    "print(submiss)"
   ]
  },
  {
   "cell_type": "code",
   "execution_count": null,
   "metadata": {},
   "outputs": [],
   "source": [
    "def hypothesis(x,w,b):\n",
    "    '''accepts input vector x, input weight vector w and bias b'''\n",
    "    \n",
    "    h = np.dot(x,w) + b\n",
    "    return sigmoid(h)\n",
    "\n",
    "def sigmoid(z):\n",
    "    return 1.0/(1.0 + np.exp(-1.0*z))\n",
    "\n",
    "def error(y_true,x,w,b):\n",
    "    \n",
    "    m = x.shape[0]\n",
    "    \n",
    "    err = 0.0\n",
    "    \n",
    "    for i in range(m):\n",
    "        hx = hypothesis(x[i],w,b) \n",
    "        err += y_true[i]*np.log2(hx) + (1-y_true[i])*np.log2(1-hx)\n",
    "        \n",
    "    \n",
    "    return -err/m\n",
    "\n",
    "\n",
    "def get_grads(y_true,x,w,b):\n",
    "    \n",
    "    grad_w = np.zeros(w.shape)\n",
    "    grad_b = 0.0\n",
    "    \n",
    "    m = x.shape[0]\n",
    "    \n",
    "    for i in range(m):\n",
    "        hx = hypothesis(x[i],w,b)\n",
    "        \n",
    "        grad_w += (y_true[i] - hx)*x[i]\n",
    "        grad_b +=  (y_true[i]-hx)\n",
    "        \n",
    "    \n",
    "    grad_w /= m\n",
    "    grad_b /= m\n",
    "    \n",
    "    return [grad_w,grad_b]\n",
    "\n",
    "\n",
    "# One Iteration of Gradient Descent\n",
    "def grad_descent(x,y_true,w,b,learning_rate=0.1):\n",
    "    \n",
    "    err = error(y_true,x,w,b)\n",
    "    [grad_w,grad_b] = get_grads(y_true,x,w,b)\n",
    "    \n",
    "    w = w + learning_rate*grad_w\n",
    "    b = b + learning_rate*grad_b\n",
    "    \n",
    "    return err,w,b\n",
    "    \n",
    "def predict(x,w,b):\n",
    "    \n",
    "    confidence = hypothesis(x,w,b)\n",
    "    if confidence<0.5:\n",
    "        return 0\n",
    "    else:\n",
    "        return 1\n",
    "    \n",
    "def get_acc(x_tst,y_tst,w,b):\n",
    "    \n",
    "    y_pred = []\n",
    "    \n",
    "    for i in range(y_tst.shape[0]):\n",
    "        p = predict(x_tst[i],w,b)\n",
    "        y_pred.append(p)\n",
    "        \n",
    "    y_pred = np.array(y_pred)\n",
    "    \n",
    "    return  float((y_pred==y_tst).sum())/y_tst.shape[0]\n",
    "        \n",
    "    "
   ]
  }
 ],
 "metadata": {
  "kernelspec": {
   "display_name": "Python 3",
   "language": "python",
   "name": "python3"
  },
  "language_info": {
   "codemirror_mode": {
    "name": "ipython",
    "version": 3
   },
   "file_extension": ".py",
   "mimetype": "text/x-python",
   "name": "python",
   "nbconvert_exporter": "python",
   "pygments_lexer": "ipython3",
   "version": "3.6.7"
  }
 },
 "nbformat": 4,
 "nbformat_minor": 2
}
